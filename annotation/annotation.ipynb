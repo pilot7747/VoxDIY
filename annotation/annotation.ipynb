{
 "cells": [
  {
   "cell_type": "markdown",
   "metadata": {},
   "source": [
    "First, we need to install `toloka-kit`"
   ]
  },
  {
   "cell_type": "code",
   "execution_count": null,
   "metadata": {},
   "outputs": [],
   "source": [
    "!pip3 install toloka-kit"
   ]
  },
  {
   "cell_type": "code",
   "execution_count": null,
   "metadata": {},
   "outputs": [],
   "source": [
    "import pandas\n",
    "import numpy as np\n",
    "\n",
    "import toloka.client as toloka\n",
    "import toloka.client.project.template_builder as tb\n",
    "from toloka.client.collectors import AssignmentSubmitTime\n",
    "from toloka.client.actions import RestrictionV2\n",
    "from toloka.client.conditions import FastSubmittedCount\n",
    "\n",
    "import json\n",
    "import datetime\n",
    "from time import sleep\n",
    "import threading\n",
    "\n",
    "from task_processor import TaskProcessor"
   ]
  },
  {
   "cell_type": "markdown",
   "metadata": {},
   "source": [
    "Create `TolokaClient` object"
   ]
  },
  {
   "cell_type": "code",
   "execution_count": null,
   "metadata": {},
   "outputs": [],
   "source": [
    "toloka_token = '<YOUR TOKEN>'  # Go to https://toloka.yandex.com/requester/profile\n",
    "toloka_client = toloka.TolokaClient(toloka_token, 'PRODUCTION')  # Or switch to 'SANDBOX' \n",
    "print(toloka_client.get_requester())"
   ]
  },
  {
   "cell_type": "markdown",
   "metadata": {},
   "source": [
    "Specify the experiment prefix"
   ]
  },
  {
   "cell_type": "code",
   "execution_count": null,
   "metadata": {},
   "outputs": [],
   "source": [
    "experiment = 'CrowdSpeech'"
   ]
  },
  {
   "cell_type": "markdown",
   "metadata": {},
   "source": [
    "Let's create the project. Use the `interface.json` to specify the interface and `instruction.html` to specify the instruction"
   ]
  },
  {
   "cell_type": "code",
   "execution_count": null,
   "metadata": {},
   "outputs": [],
   "source": [
    "tb_dict = json.loads(open('interface.json').read())\n",
    "tb_conf = toloka.structure(tb_dict, tb.TemplateBuilder)\n",
    "project_interface = toloka.project.view_spec.TemplateBuilderViewSpec(config=tb_conf)\n",
    "prepared_instruction = open('instructions.html').read().strip()\n",
    "\n",
    "annotation_project = toloka.project.Project(\n",
    "    assignments_issuing_type=toloka.project.Project.AssignmentsIssuingType.AUTOMATED,\n",
    "    public_name='Audio Transcription',\n",
    "    public_description='Listen to the audio and write what you heard',\n",
    "    public_instructions=prepared_instruction,\n",
    "    # Set up the task: view, input, and output parameters\n",
    "    task_spec=toloka.project.task_spec.TaskSpec(\n",
    "        input_spec={'audio': toloka.project.field_spec.UrlSpec()},\n",
    "        output_spec={'playing': toloka.project.field_spec.StringSpec(), 'transcription': toloka.project.field_spec.StringSpec()},\n",
    "        view_spec=project_interface,\n",
    "    ),\n",
    ")\n",
    "\n",
    "annotation_project = toloka_client.create_project(annotation_project)\n",
    "print(f'Created transcription project with id {annotation_project.id}')\n",
    "print(f'To view the project, go to https://toloka.yandex.com/requester/project/{annotation_project.id}')"
   ]
  },
  {
   "cell_type": "markdown",
   "metadata": {},
   "source": [
    "Now we need to create skills for quality control"
   ]
  },
  {
   "cell_type": "code",
   "execution_count": null,
   "metadata": {},
   "outputs": [],
   "source": [
    "def create_skill(name, description):\n",
    "    skill = next(toloka_client.get_skills(name=name), None)\n",
    "    if skill:\n",
    "        print('Skill already exists')\n",
    "    else:\n",
    "        print('Create new skill')\n",
    "        skill = toloka_client.create_skill(\n",
    "            name=name,\n",
    "            hidden=True,\n",
    "            public_requester_description={'EN': description},\n",
    "        )\n",
    "    return skill\n",
    "\n",
    "exam_skill = create_skill(f'{experiment} Audio Transcription (Exam)', '')\n",
    "transcription_skill = create_skill(f'{experiment} Audio Transcription', '')"
   ]
  },
  {
   "cell_type": "markdown",
   "metadata": {},
   "source": [
    "Let's create the exam pool. This pool has an infinite overlap and the skill from this pool will be used to select performers that will annotate the real tasks."
   ]
  },
  {
   "cell_type": "code",
   "execution_count": null,
   "metadata": {},
   "outputs": [],
   "source": [
    "exam_pool = toloka.pool.Pool(\n",
    "    project_id=annotation_project.id,\n",
    "    private_name='Exam other',  # Only you can see this information.\n",
    "    may_contain_adult_content=True,\n",
    "    will_expire=datetime.datetime.utcnow() + datetime.timedelta(days=365),  # Pool will automatically close after one year\n",
    "    reward_per_assignment=0.01,     # Set the minimum payment amount for one task page\n",
    "    auto_accept_solutions=False,    # Only pay the performer for completing the task,\n",
    "                                    # based on the verification results of the second project.\n",
    "                                     \n",
    "    auto_accept_period_day=1,       # Number of days to determine if we'll pay for task completion by this performer or not.\n",
    "    assignment_max_duration_seconds=60*20,  # Give performers 20 minutes maximum to complete one task page.\n",
    "    defaults=toloka.pool.Pool.Defaults(\n",
    "        default_overlap_for_new_task_suites=99,\n",
    "        default_overlap_for_new_tasks=None,\n",
    "    ),\n",
    "    type='EXAM'\n",
    ")\n",
    "\n",
    "exam_pool.set_mixer_config(real_tasks_count=0,\n",
    "                           golden_tasks_count=4,\n",
    "                           training_tasks_count=0,\n",
    "                           mix_tasks_in_creation_order=False,\n",
    "                           shuffle_tasks_in_task_suite=True)\n",
    "exam_pool.filter = (toloka.filter.FilterOr([toloka.filter.Languages.in_('EN')]) &\n",
    "    toloka.filter.FilterOr([\n",
    "        toloka.filter.ClientType == 'BROWSER',\n",
    "        toloka.filter.ClientType == 'TOLOKA_APP'\n",
    "    ])\n",
    ")\n",
    "print(exam_pool.private_name)\n",
    "\n",
    "exam_pool = toloka_client.create_pool(exam_pool)\n",
    "print(f'To view this pool, go to https://toloka.yandex.com/requester/project/{annotation_project.id}/pool/{exam_pool.id}')"
   ]
  },
  {
   "cell_type": "markdown",
   "metadata": {},
   "source": [
    "Determine our WER thresholds"
   ]
  },
  {
   "cell_type": "code",
   "execution_count": null,
   "metadata": {},
   "outputs": [],
   "source": [
    "EXAM_THRESHOLD = 40  # target WER to pass the exam\n",
    "QUALITY_THRESHOLD = 35  # target transcription WER"
   ]
  },
  {
   "cell_type": "markdown",
   "metadata": {},
   "source": [
    "Create the annotation pool"
   ]
  },
  {
   "cell_type": "code",
   "execution_count": null,
   "metadata": {},
   "outputs": [],
   "source": [
    "annotation_pool = toloka.pool.Pool(\n",
    "    project_id=annotation_project.id,\n",
    "    private_name='test-clean',  # Only you can see this information.\n",
    "    may_contain_adult_content=True,\n",
    "    will_expire=datetime.datetime.utcnow() + datetime.timedelta(days=365),  # Pool will automatically close after one year\n",
    "    reward_per_assignment=0.01,     # Set the minimum payment amount for one task page\n",
    "    auto_accept_solutions=False,    # Only pay the performer for completing the task,\n",
    "                                    # based on the verification results of the second project.\n",
    "                                     \n",
    "    auto_accept_period_day=1,       # Number of days to determine if we'll pay for task completion by this performer or not.\n",
    "    assignment_max_duration_seconds=60*20,  # Give performers 20 minutes maximum to complete one task page.\n",
    "    defaults=toloka.pool.Pool.Defaults(\n",
    "        default_overlap_for_new_task_suites=7,  # Overlap\n",
    "        default_overlap_for_new_tasks=7,\n",
    "    ),\n",
    "    type='REGULAR'\n",
    ")\n",
    "\n",
    "annotation_pool.set_mixer_config(real_tasks_count=1, golden_tasks_count=0, training_tasks_count=0)\n",
    "annotation_pool.filter = (toloka.filter.FilterOr([toloka.filter.Languages.in_('EN')]) &  # Perfromer's profile language\n",
    "    toloka.filter.FilterOr([\n",
    "        toloka.filter.ClientType == 'BROWSER',\n",
    "        toloka.filter.ClientType == 'TOLOKA_APP'\n",
    "    ]) &\n",
    "    toloka.filter.FilterOr([toloka.filter.Skill(exam_skill.id) >= (100 - EXAM_THRESHOLD)]) &\n",
    "    toloka.filter.FilterOr([\n",
    "        toloka.filter.Skill(transcription_skill.id) >= (100 - QUALITY_THRESHOLD),\n",
    "        toloka.filter.Skill(transcription_skill.id) == None\n",
    "    ])\n",
    ")\n",
    "\n",
    "annotation_pool.quality_control.add_action(\n",
    "    collector=AssignmentSubmitTime(fast_submit_threshold_seconds=10),  # Fast responses threshold\n",
    "    conditions=[FastSubmittedCount > 0],\n",
    "    action=RestrictionV2(\n",
    "        scope='PROJECT',\n",
    "        duration_unit='PERMANENT',\n",
    "        private_comment='Fast responses'\n",
    "    )\n",
    ")\n",
    "\n",
    "annotation_pool.quality_control.add_action(\n",
    "    collector=toloka.collectors.AssignmentsAssessment(),\n",
    "    conditions=[toloka.conditions.AssessmentEvent == toloka.conditions.AssessmentEvent.REJECT],\n",
    "    action=toloka.actions.ChangeOverlap(delta=1, open_pool=True),\n",
    ")\n",
    "\n",
    "print(annotation_pool.private_name)\n",
    "\n",
    "annotation_pool = toloka_client.create_pool(annotation_pool)\n",
    "print(f'To view this pool, go to https://toloka.yandex.com/requester/project/{annotation_project.id}/pool/{annotation_pool.id}')"
   ]
  },
  {
   "cell_type": "markdown",
   "metadata": {},
   "source": [
    "Add tasks to the exam"
   ]
  },
  {
   "cell_type": "code",
   "execution_count": null,
   "metadata": {},
   "outputs": [],
   "source": [
    "with open('exam_gt.txt') as f:\n",
    "    exam_gt_lines = f.readlines()\n",
    "    \n",
    "exam_tasks_inputs = [line.split('\\t')[0] for line in exam_gt_lines]\n",
    "exam_tasks_golden = [line.split('\\t')[1] for line in exam_gt_lines]\n",
    "\n",
    "exam_tasks = []\n",
    "\n",
    "for task_input, golden in zip(exam_tasks_inputs, exam_tasks_golden):\n",
    "    exam_tasks.append(\n",
    "        toloka.task.Task(\n",
    "            input_values={'audio': task_input},\n",
    "            known_solutions = [\n",
    "                toloka.task.BaseTask.KnownSolution(output_values={'transcription': golden})\n",
    "            ],\n",
    "            pool_id=exam_pool.id,\n",
    "            infinite_overlap=True,\n",
    "        )\n",
    "    )\n",
    "\n",
    "created_exam_tasks = toloka_client.create_tasks(exam_tasks)\n",
    "print(f'{len(created_exam_tasks.items)} tasks added to the pool {exam_pool.id}')"
   ]
  },
  {
   "cell_type": "markdown",
   "metadata": {},
   "source": [
    "Add tasks to the annotation pool"
   ]
  },
  {
   "cell_type": "code",
   "execution_count": null,
   "metadata": {},
   "outputs": [],
   "source": [
    "tasks_file = 'crowdspeech-test-clean-gt.txt'\n",
    "\n",
    "with open(tasks_file) as f:\n",
    "    gt_lines = f.readlines()\n",
    "    \n",
    "tasks_inputs = [line.split('\\t')[0] for line in gt_lines]\n",
    "\n",
    "real_tasks = []\n",
    "\n",
    "for task_input in tasks_inputs:\n",
    "    real_tasks.append(\n",
    "        toloka.task.Task(\n",
    "            input_values={'audio': task_input},\n",
    "            pool_id=annotation_pool.id,\n",
    "            overlap=7\n",
    "        )\n",
    "    )\n",
    "\n",
    "created_real_tasks = toloka_client.create_tasks(real_tasks)\n",
    "print(f'{len(created_real_tasks.items)} tasks added to the pool {annotation_pool.id}')"
   ]
  },
  {
   "cell_type": "markdown",
   "metadata": {},
   "source": [
    "This function will be used for the automatic post-acceptance"
   ]
  },
  {
   "cell_type": "code",
   "execution_count": null,
   "metadata": {},
   "outputs": [],
   "source": [
    "def annotate(pool_id, skill_id, gt_path, threshold, window):\n",
    "    pool = toloka_client.get_pool(pool_id)\n",
    "    if pool.is_closed():\n",
    "        toloka_client.open_pool(pool_id)\n",
    "\n",
    "    task_processor = TaskProcessor(toloka_client, pool_id, skill_id, gt_path, threshold, window)\n",
    "    pool = toloka_client.get_pool(pool.id)\n",
    "    while not pool.is_closed():\n",
    "        task_processor.process()\n",
    "        sleep(10)\n",
    "        pool = toloka_client.get_pool(pool.id)\n",
    "    print(f'{pool_id} closed')"
   ]
  },
  {
   "cell_type": "markdown",
   "metadata": {},
   "source": [
    "Start pools"
   ]
  },
  {
   "cell_type": "code",
   "execution_count": null,
   "metadata": {},
   "outputs": [],
   "source": [
    "exam_thread = threading.Thread(target=annotate, args=(exam_pool.id, exam_skill.id, 'exam_gt.txt', EXAM_THRESHOLD, 10))\n",
    "annotation_thread = threading.Thread(target=annotate, args=(annotation_pool.id, transcription_skill.id, tasks_file, QUALITY_THRESHOLD, 5))\n",
    "\n",
    "exam_thread.start()\n",
    "annotation_thread.start()"
   ]
  },
  {
   "cell_type": "code",
   "execution_count": null,
   "metadata": {},
   "outputs": [],
   "source": []
  }
 ],
 "metadata": {
  "kernelspec": {
   "display_name": "Python 3",
   "language": "python",
   "name": "python3"
  },
  "language_info": {
   "codemirror_mode": {
    "name": "ipython",
    "version": 3
   },
   "file_extension": ".py",
   "mimetype": "text/x-python",
   "name": "python",
   "nbconvert_exporter": "python",
   "pygments_lexer": "ipython3",
   "version": "3.7.5"
  }
 },
 "nbformat": 4,
 "nbformat_minor": 4
}
