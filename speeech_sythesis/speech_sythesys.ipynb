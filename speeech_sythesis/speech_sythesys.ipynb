{
 "cells": [
  {
   "cell_type": "code",
   "execution_count": null,
   "metadata": {},
   "outputs": [],
   "source": [
    "import argparse\n",
    "import requests\n",
    "import subprocess\n",
    "from time import sleep\n",
    "import numpy as np\n",
    "import pandas as pd\n",
    "from tqdm.auto import tqdm"
   ]
  },
  {
   "cell_type": "markdown",
   "metadata": {},
   "source": [
    "First, put your token and folder id.\n",
    "\n",
    "Follow Yandex.Cloud guide for more information about the SpeechKit usage."
   ]
  },
  {
   "cell_type": "code",
   "execution_count": null,
   "metadata": {},
   "outputs": [],
   "source": [
    "token = '<YOUR TOKEN>'\n",
    "folder_id = '<FOLDER ID>'"
   ]
  },
  {
   "cell_type": "markdown",
   "metadata": {},
   "source": [
    "Speech synthesize method"
   ]
  },
  {
   "cell_type": "code",
   "execution_count": null,
   "metadata": {},
   "outputs": [],
   "source": [
    "def synthesize(folder_id, iam_token, text):\n",
    "    url = 'https://tts.api.cloud.yandex.net/speech/v1/tts:synthesize'\n",
    "    headers = {\n",
    "        'Authorization': 'Bearer ' + iam_token,\n",
    "    }\n",
    "\n",
    "    data = {\n",
    "        'text': text,\n",
    "        'lang': 'ru-RU',\n",
    "        'voice': np.random.choice(['alena', 'filipp']),\n",
    "        'folderId': folder_id,\n",
    "        'emotion': np.random.choice(['evil', 'neutral', 'good']),\n",
    "        'speed' : 1.1,\n",
    "        'format': 'lpcm',\n",
    "        'sampleRateHertz': 48000,\n",
    "    }\n",
    "\n",
    "    with requests.post(url, headers=headers, data=data, stream=True) as resp:\n",
    "        if resp.status_code != 200:\n",
    "            raise RuntimeError(\"Invalid response received: code: %d, message: %s\" % (resp.status_code, resp.text))\n",
    "\n",
    "        for chunk in resp.iter_content(chunk_size=None):\n",
    "            yield chunk"
   ]
  },
  {
   "cell_type": "markdown",
   "metadata": {},
   "source": [
    "Define a file with your source texts separated by `\\n`"
   ]
  },
  {
   "cell_type": "code",
   "execution_count": null,
   "metadata": {},
   "outputs": [],
   "source": [
    "source_texts = 'source_texts.txt'"
   ]
  },
  {
   "cell_type": "code",
   "execution_count": null,
   "metadata": {},
   "outputs": [],
   "source": [
    "with open('source_texts.txt', 'r') as handler:\n",
    "    sentences = [x.strip() for x in handler.readlines()]"
   ]
  },
  {
   "cell_type": "markdown",
   "metadata": {},
   "source": [
    "Let's start the generating process."
   ]
  },
  {
   "cell_type": "code",
   "execution_count": null,
   "metadata": {},
   "outputs": [],
   "source": [
    "gt = []\n",
    "\n",
    "for idx, sntnc in tqdm(enumerate(sentences), total=len(sentences)):\n",
    "\n",
    "    output_tmp = 'tmp_recordings/' + str(idx) + '.raw'\n",
    "    output_fin = 'final_recordings/' + str(idx) + '.wav'\n",
    "    \n",
    "    gt.append(f\"{str(idx)}.wav\\t{sntnc}\")\n",
    "\n",
    "    bashCommand = \"./sox-14.4.2/sox -r 48000 -b 16 -e signed-integer -c 1 \" + output_tmp + \" \" + output_fin\n",
    "\n",
    "\n",
    "    with open(output_tmp, \"wb\") as f:\n",
    "        for audio_content in synthesize(folder_id, token, sntnc):\n",
    "            f.write(audio_content)\n",
    "\n",
    "    process = subprocess.Popen(bashCommand.split(), stdout=subprocess.PIPE)\n",
    "    output, error = process.communicate()\n",
    "    sleep(0.02)\n",
    "with open('final_recordings/gt.txt', 'w') as f:\n",
    "    f.write('\\n'.join(gt))"
   ]
  },
  {
   "cell_type": "markdown",
   "metadata": {},
   "source": [
    "Now you can upload generated files to Yandex.Cloud or any other data storage with direct access.\n",
    "(It can also be automated, but we do not provide a code for this process since it strongly depends on where the data will be stored)."
   ]
  },
  {
   "cell_type": "code",
   "execution_count": null,
   "metadata": {},
   "outputs": [],
   "source": [
    "base_url = '<put your base url like https://storage.yandexcloud.net/<folder>'"
   ]
  },
  {
   "cell_type": "code",
   "execution_count": null,
   "metadata": {},
   "outputs": [],
   "source": [
    "with open('result.tsv', 'w') as f:\n",
    "    f.write('INPUT:audio\\n')\n",
    "    lines = []\n",
    "    for i in range(len(gt)):\n",
    "        lines.append(f'{base_url}/{i}.wav')\n",
    "    f.write('\\n'.join(lines))"
   ]
  }
 ],
 "metadata": {
  "kernelspec": {
   "display_name": "Python 3",
   "language": "python",
   "name": "python3"
  },
  "language_info": {
   "codemirror_mode": {
    "name": "ipython",
    "version": 3
   },
   "file_extension": ".py",
   "mimetype": "text/x-python",
   "name": "python",
   "nbconvert_exporter": "python",
   "pygments_lexer": "ipython3",
   "version": "3.8.3"
  }
 },
 "nbformat": 4,
 "nbformat_minor": 4
}
